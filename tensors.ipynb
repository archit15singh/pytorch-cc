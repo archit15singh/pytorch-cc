{
 "cells": [
  {
   "cell_type": "code",
   "execution_count": 1,
   "id": "16b21ef0",
   "metadata": {
    "_cell_guid": "b1076dfc-b9ad-4769-8c92-a6c4dae69d19",
    "_uuid": "8f2839f25d086af736a60e9eeb907d3b93b6e0e5",
    "execution": {
     "iopub.execute_input": "2023-04-27T21:13:41.275865Z",
     "iopub.status.busy": "2023-04-27T21:13:41.275330Z",
     "iopub.status.idle": "2023-04-27T21:13:41.291091Z",
     "shell.execute_reply": "2023-04-27T21:13:41.289219Z"
    },
    "papermill": {
     "duration": 0.028661,
     "end_time": "2023-04-27T21:13:41.294556",
     "exception": false,
     "start_time": "2023-04-27T21:13:41.265895",
     "status": "completed"
    },
    "tags": []
   },
   "outputs": [],
   "source": [
    "# This Python 3 environment comes with many helpful analytics libraries installed\n",
    "# It is defined by the kaggle/python Docker image: https://github.com/kaggle/docker-python\n",
    "# For example, here's several helpful packages to load\n",
    "\n",
    "import numpy as np # linear algebra\n",
    "import pandas as pd # data processing, CSV file I/O (e.g. pd.read_csv)\n",
    "\n",
    "# Input data files are available in the read-only \"../input/\" directory\n",
    "# For example, running this (by clicking run or pressing Shift+Enter) will list all files under the input directory\n",
    "\n",
    "import os\n",
    "for dirname, _, filenames in os.walk('/kaggle/input'):\n",
    "    for filename in filenames:\n",
    "        print(os.path.join(dirname, filename))\n",
    "\n",
    "# You can write up to 20GB to the current directory (/kaggle/working/) that gets preserved as output when you create a version using \"Save & Run All\" \n",
    "# You can also write temporary files to /kaggle/temp/, but they won't be saved outside of the current session"
   ]
  },
  {
   "cell_type": "markdown",
   "id": "1b125481",
   "metadata": {
    "papermill": {
     "duration": 0.005873,
     "end_time": "2023-04-27T21:13:41.306873",
     "exception": false,
     "start_time": "2023-04-27T21:13:41.301000",
     "status": "completed"
    },
    "tags": []
   },
   "source": [
    "https://pytorch.org/tutorials/beginner/deep_learning_60min_blitz.html"
   ]
  },
  {
   "cell_type": "code",
   "execution_count": 2,
   "id": "bbe20d4a",
   "metadata": {
    "execution": {
     "iopub.execute_input": "2023-04-27T21:13:41.321427Z",
     "iopub.status.busy": "2023-04-27T21:13:41.320960Z",
     "iopub.status.idle": "2023-04-27T21:13:44.341977Z",
     "shell.execute_reply": "2023-04-27T21:13:44.340597Z"
    },
    "papermill": {
     "duration": 3.032236,
     "end_time": "2023-04-27T21:13:44.345313",
     "exception": false,
     "start_time": "2023-04-27T21:13:41.313077",
     "status": "completed"
    },
    "tags": []
   },
   "outputs": [],
   "source": [
    "import torch\n",
    "import numpy as np"
   ]
  },
  {
   "cell_type": "markdown",
   "id": "5e9e3216",
   "metadata": {
    "papermill": {
     "duration": 0.005651,
     "end_time": "2023-04-27T21:13:44.357309",
     "exception": false,
     "start_time": "2023-04-27T21:13:44.351658",
     "status": "completed"
    },
    "tags": []
   },
   "source": [
    "create a tensor from python native data types"
   ]
  },
  {
   "cell_type": "code",
   "execution_count": 3,
   "id": "7289b677",
   "metadata": {
    "execution": {
     "iopub.execute_input": "2023-04-27T21:13:44.372032Z",
     "iopub.status.busy": "2023-04-27T21:13:44.371353Z",
     "iopub.status.idle": "2023-04-27T21:13:44.394288Z",
     "shell.execute_reply": "2023-04-27T21:13:44.393046Z"
    },
    "papermill": {
     "duration": 0.034027,
     "end_time": "2023-04-27T21:13:44.397381",
     "exception": false,
     "start_time": "2023-04-27T21:13:44.363354",
     "status": "completed"
    },
    "tags": []
   },
   "outputs": [],
   "source": [
    "data = [[1, 2], [3, 4]]\n",
    "x_data = torch.tensor(data)"
   ]
  },
  {
   "cell_type": "markdown",
   "id": "1edf21c4",
   "metadata": {
    "papermill": {
     "duration": 0.005671,
     "end_time": "2023-04-27T21:13:44.409161",
     "exception": false,
     "start_time": "2023-04-27T21:13:44.403490",
     "status": "completed"
    },
    "tags": []
   },
   "source": [
    "create a tensor from numpy array"
   ]
  },
  {
   "cell_type": "code",
   "execution_count": 4,
   "id": "eb584d7f",
   "metadata": {
    "execution": {
     "iopub.execute_input": "2023-04-27T21:13:44.423650Z",
     "iopub.status.busy": "2023-04-27T21:13:44.423168Z",
     "iopub.status.idle": "2023-04-27T21:13:44.432965Z",
     "shell.execute_reply": "2023-04-27T21:13:44.431702Z"
    },
    "papermill": {
     "duration": 0.020506,
     "end_time": "2023-04-27T21:13:44.435715",
     "exception": false,
     "start_time": "2023-04-27T21:13:44.415209",
     "status": "completed"
    },
    "tags": []
   },
   "outputs": [],
   "source": [
    "np_array = np.array(data)\n",
    "x_np = torch.from_numpy(np_array)"
   ]
  },
  {
   "cell_type": "markdown",
   "id": "1b5d0e7c",
   "metadata": {
    "papermill": {
     "duration": 0.005672,
     "end_time": "2023-04-27T21:13:44.447535",
     "exception": false,
     "start_time": "2023-04-27T21:13:44.441863",
     "status": "completed"
    },
    "tags": []
   },
   "source": [
    "override the data type of the tensor and create a tensor from another tensor dimensions"
   ]
  },
  {
   "cell_type": "code",
   "execution_count": 5,
   "id": "9b5e1b65",
   "metadata": {
    "execution": {
     "iopub.execute_input": "2023-04-27T21:13:44.462120Z",
     "iopub.status.busy": "2023-04-27T21:13:44.461659Z",
     "iopub.status.idle": "2023-04-27T21:13:44.555293Z",
     "shell.execute_reply": "2023-04-27T21:13:44.553734Z"
    },
    "papermill": {
     "duration": 0.104998,
     "end_time": "2023-04-27T21:13:44.558566",
     "exception": false,
     "start_time": "2023-04-27T21:13:44.453568",
     "status": "completed"
    },
    "tags": []
   },
   "outputs": [
    {
     "name": "stdout",
     "output_type": "stream",
     "text": [
      "Ones Tensor: \n",
      " tensor([[1, 1],\n",
      "        [1, 1]]) \n",
      "\n",
      "Random Tensor: \n",
      " tensor([[0.5495, 0.6145],\n",
      "        [0.8654, 0.7664]]) \n",
      "\n"
     ]
    }
   ],
   "source": [
    "x_ones = torch.ones_like(x_data) # retains the properties of x_data\n",
    "print(f\"Ones Tensor: \\n {x_ones} \\n\")\n",
    "\n",
    "x_rand = torch.rand_like(x_data, dtype=torch.float) # overrides the datatype of x_data\n",
    "print(f\"Random Tensor: \\n {x_rand} \\n\")"
   ]
  },
  {
   "cell_type": "markdown",
   "id": "273107ec",
   "metadata": {
    "papermill": {
     "duration": 0.006411,
     "end_time": "2023-04-27T21:13:44.571453",
     "exception": false,
     "start_time": "2023-04-27T21:13:44.565042",
     "status": "completed"
    },
    "tags": []
   },
   "source": [
    "use dimensions tuple to create that tensor"
   ]
  },
  {
   "cell_type": "code",
   "execution_count": 6,
   "id": "fa49429d",
   "metadata": {
    "execution": {
     "iopub.execute_input": "2023-04-27T21:13:44.587235Z",
     "iopub.status.busy": "2023-04-27T21:13:44.586733Z",
     "iopub.status.idle": "2023-04-27T21:13:44.600007Z",
     "shell.execute_reply": "2023-04-27T21:13:44.598616Z"
    },
    "papermill": {
     "duration": 0.025098,
     "end_time": "2023-04-27T21:13:44.602779",
     "exception": false,
     "start_time": "2023-04-27T21:13:44.577681",
     "status": "completed"
    },
    "tags": []
   },
   "outputs": [
    {
     "name": "stdout",
     "output_type": "stream",
     "text": [
      "Random Tensor: \n",
      " tensor([[0.9102, 0.9669, 0.9251],\n",
      "        [0.6376, 0.5809, 0.3394]]) \n",
      "\n",
      "Ones Tensor: \n",
      " tensor([[1., 1., 1.],\n",
      "        [1., 1., 1.]]) \n",
      "\n",
      "Zeros Tensor: \n",
      " tensor([[0., 0., 0.],\n",
      "        [0., 0., 0.]])\n"
     ]
    }
   ],
   "source": [
    "shape = (2, 3,)\n",
    "rand_tensor = torch.rand(shape)\n",
    "ones_tensor = torch.ones(shape)\n",
    "zeros_tensor = torch.zeros(shape)\n",
    "\n",
    "print(f\"Random Tensor: \\n {rand_tensor} \\n\")\n",
    "print(f\"Ones Tensor: \\n {ones_tensor} \\n\")\n",
    "print(f\"Zeros Tensor: \\n {zeros_tensor}\")"
   ]
  },
  {
   "cell_type": "code",
   "execution_count": 7,
   "id": "6331561b",
   "metadata": {
    "execution": {
     "iopub.execute_input": "2023-04-27T21:13:44.617392Z",
     "iopub.status.busy": "2023-04-27T21:13:44.616879Z",
     "iopub.status.idle": "2023-04-27T21:13:44.624669Z",
     "shell.execute_reply": "2023-04-27T21:13:44.623295Z"
    },
    "papermill": {
     "duration": 0.018486,
     "end_time": "2023-04-27T21:13:44.627553",
     "exception": false,
     "start_time": "2023-04-27T21:13:44.609067",
     "status": "completed"
    },
    "tags": []
   },
   "outputs": [
    {
     "name": "stdout",
     "output_type": "stream",
     "text": [
      "Shape of tensor: torch.Size([3, 4])\n",
      "Datatype of tensor: torch.float32\n",
      "Device tensor is stored on: cpu\n"
     ]
    }
   ],
   "source": [
    "tensor = torch.rand(3, 4,)\n",
    "\n",
    "print(f\"Shape of tensor: {tensor.shape}\")\n",
    "print(f\"Datatype of tensor: {tensor.dtype}\")\n",
    "print(f\"Device tensor is stored on: {tensor.device}\")"
   ]
  },
  {
   "cell_type": "markdown",
   "id": "d443850d",
   "metadata": {
    "papermill": {
     "duration": 0.005925,
     "end_time": "2023-04-27T21:13:44.639869",
     "exception": false,
     "start_time": "2023-04-27T21:13:44.633944",
     "status": "completed"
    },
    "tags": []
   },
   "source": [
    "Tensor Operations"
   ]
  },
  {
   "cell_type": "code",
   "execution_count": 8,
   "id": "7da1d507",
   "metadata": {
    "execution": {
     "iopub.execute_input": "2023-04-27T21:13:44.655381Z",
     "iopub.status.busy": "2023-04-27T21:13:44.654933Z",
     "iopub.status.idle": "2023-04-27T21:13:44.661415Z",
     "shell.execute_reply": "2023-04-27T21:13:44.659958Z"
    },
    "papermill": {
     "duration": 0.017957,
     "end_time": "2023-04-27T21:13:44.664213",
     "exception": false,
     "start_time": "2023-04-27T21:13:44.646256",
     "status": "completed"
    },
    "tags": []
   },
   "outputs": [],
   "source": [
    "# We move our tensor to the GPU if available\n",
    "if torch.cuda.is_available():\n",
    "    tensor = tensor.to('cuda')\n",
    "    print(f\"Device tensor is stored on: {tensor.device}\")"
   ]
  },
  {
   "cell_type": "code",
   "execution_count": 9,
   "id": "e6f2c5bc",
   "metadata": {
    "execution": {
     "iopub.execute_input": "2023-04-27T21:13:44.679647Z",
     "iopub.status.busy": "2023-04-27T21:13:44.679180Z",
     "iopub.status.idle": "2023-04-27T21:13:44.694069Z",
     "shell.execute_reply": "2023-04-27T21:13:44.692542Z"
    },
    "papermill": {
     "duration": 0.025886,
     "end_time": "2023-04-27T21:13:44.696855",
     "exception": false,
     "start_time": "2023-04-27T21:13:44.670969",
     "status": "completed"
    },
    "tags": []
   },
   "outputs": [
    {
     "name": "stdout",
     "output_type": "stream",
     "text": [
      "tensor([[1., 0., 1., 1.],\n",
      "        [1., 0., 1., 1.],\n",
      "        [1., 0., 1., 1.],\n",
      "        [1., 0., 1., 1.]])\n"
     ]
    }
   ],
   "source": [
    "tensor = torch.ones(4, 4)\n",
    "tensor[:,1] = 0\n",
    "print(tensor)"
   ]
  },
  {
   "cell_type": "code",
   "execution_count": 10,
   "id": "8ec3f19b",
   "metadata": {
    "execution": {
     "iopub.execute_input": "2023-04-27T21:13:44.712855Z",
     "iopub.status.busy": "2023-04-27T21:13:44.711527Z",
     "iopub.status.idle": "2023-04-27T21:13:44.724614Z",
     "shell.execute_reply": "2023-04-27T21:13:44.723100Z"
    },
    "papermill": {
     "duration": 0.024174,
     "end_time": "2023-04-27T21:13:44.727678",
     "exception": false,
     "start_time": "2023-04-27T21:13:44.703504",
     "status": "completed"
    },
    "tags": []
   },
   "outputs": [
    {
     "name": "stdout",
     "output_type": "stream",
     "text": [
      "tensor([[1., 0., 1., 1., 1., 0., 1., 1., 1., 0., 1., 1.],\n",
      "        [1., 0., 1., 1., 1., 0., 1., 1., 1., 0., 1., 1.],\n",
      "        [1., 0., 1., 1., 1., 0., 1., 1., 1., 0., 1., 1.],\n",
      "        [1., 0., 1., 1., 1., 0., 1., 1., 1., 0., 1., 1.]])\n"
     ]
    }
   ],
   "source": [
    "# concatenate tensors\n",
    "t1 = torch.cat([tensor, tensor, tensor], dim=1)\n",
    "print(t1)"
   ]
  },
  {
   "cell_type": "code",
   "execution_count": 11,
   "id": "eecdf9f0",
   "metadata": {
    "execution": {
     "iopub.execute_input": "2023-04-27T21:13:44.743500Z",
     "iopub.status.busy": "2023-04-27T21:13:44.743051Z",
     "iopub.status.idle": "2023-04-27T21:13:44.751859Z",
     "shell.execute_reply": "2023-04-27T21:13:44.750327Z"
    },
    "papermill": {
     "duration": 0.020453,
     "end_time": "2023-04-27T21:13:44.755121",
     "exception": false,
     "start_time": "2023-04-27T21:13:44.734668",
     "status": "completed"
    },
    "tags": []
   },
   "outputs": [
    {
     "name": "stdout",
     "output_type": "stream",
     "text": [
      "tensor.mul(tensor) \n",
      " tensor([[1., 0., 1., 1.],\n",
      "        [1., 0., 1., 1.],\n",
      "        [1., 0., 1., 1.],\n",
      "        [1., 0., 1., 1.]]) \n",
      "\n",
      "tensor * tensor \n",
      " tensor([[1., 0., 1., 1.],\n",
      "        [1., 0., 1., 1.],\n",
      "        [1., 0., 1., 1.],\n",
      "        [1., 0., 1., 1.]])\n"
     ]
    }
   ],
   "source": [
    "# This computes the element-wise product\n",
    "print(f\"tensor.mul(tensor) \\n {tensor.mul(tensor)} \\n\")\n",
    "# Alternative syntax:\n",
    "print(f\"tensor * tensor \\n {tensor * tensor}\")"
   ]
  },
  {
   "cell_type": "code",
   "execution_count": 12,
   "id": "18c705fe",
   "metadata": {
    "execution": {
     "iopub.execute_input": "2023-04-27T21:13:44.770671Z",
     "iopub.status.busy": "2023-04-27T21:13:44.770189Z",
     "iopub.status.idle": "2023-04-27T21:13:44.787778Z",
     "shell.execute_reply": "2023-04-27T21:13:44.786122Z"
    },
    "papermill": {
     "duration": 0.02952,
     "end_time": "2023-04-27T21:13:44.791284",
     "exception": false,
     "start_time": "2023-04-27T21:13:44.761764",
     "status": "completed"
    },
    "tags": []
   },
   "outputs": [
    {
     "name": "stdout",
     "output_type": "stream",
     "text": [
      "tensor.matmul(tensor.T) \n",
      " tensor([[3., 3., 3., 3.],\n",
      "        [3., 3., 3., 3.],\n",
      "        [3., 3., 3., 3.],\n",
      "        [3., 3., 3., 3.]]) \n",
      "\n",
      "tensor @ tensor.T \n",
      " tensor([[3., 3., 3., 3.],\n",
      "        [3., 3., 3., 3.],\n",
      "        [3., 3., 3., 3.],\n",
      "        [3., 3., 3., 3.]])\n"
     ]
    }
   ],
   "source": [
    "# matrix multiplication\n",
    "print(f\"tensor.matmul(tensor.T) \\n {tensor.matmul(tensor.T)} \\n\")\n",
    "# Alternative syntax:\n",
    "print(f\"tensor @ tensor.T \\n {tensor @ tensor.T}\")"
   ]
  },
  {
   "cell_type": "code",
   "execution_count": 13,
   "id": "797c5759",
   "metadata": {
    "execution": {
     "iopub.execute_input": "2023-04-27T21:13:44.808652Z",
     "iopub.status.busy": "2023-04-27T21:13:44.807763Z",
     "iopub.status.idle": "2023-04-27T21:13:44.822251Z",
     "shell.execute_reply": "2023-04-27T21:13:44.820302Z"
    },
    "papermill": {
     "duration": 0.026834,
     "end_time": "2023-04-27T21:13:44.825690",
     "exception": false,
     "start_time": "2023-04-27T21:13:44.798856",
     "status": "completed"
    },
    "tags": []
   },
   "outputs": [
    {
     "name": "stdout",
     "output_type": "stream",
     "text": [
      "tensor([[1., 0., 1., 1.],\n",
      "        [1., 0., 1., 1.],\n",
      "        [1., 0., 1., 1.],\n",
      "        [1., 0., 1., 1.]]) \n",
      "\n",
      "tensor([[6., 5., 6., 6.],\n",
      "        [6., 5., 6., 6.],\n",
      "        [6., 5., 6., 6.],\n",
      "        [6., 5., 6., 6.]])\n"
     ]
    }
   ],
   "source": [
    "print(tensor, \"\\n\")\n",
    "tensor.add_(5)\n",
    "print(tensor)"
   ]
  },
  {
   "cell_type": "code",
   "execution_count": 14,
   "id": "f62da678",
   "metadata": {
    "execution": {
     "iopub.execute_input": "2023-04-27T21:13:44.841680Z",
     "iopub.status.busy": "2023-04-27T21:13:44.841150Z",
     "iopub.status.idle": "2023-04-27T21:13:44.851488Z",
     "shell.execute_reply": "2023-04-27T21:13:44.849900Z"
    },
    "papermill": {
     "duration": 0.021828,
     "end_time": "2023-04-27T21:13:44.854322",
     "exception": false,
     "start_time": "2023-04-27T21:13:44.832494",
     "status": "completed"
    },
    "tags": []
   },
   "outputs": [
    {
     "name": "stdout",
     "output_type": "stream",
     "text": [
      "t: tensor([1., 1., 1., 1., 1.])\n",
      "n: [1. 1. 1. 1. 1.]\n"
     ]
    }
   ],
   "source": [
    "# to numpy\n",
    "t = torch.ones(5)\n",
    "print(f\"t: {t}\")\n",
    "n = t.numpy()\n",
    "print(f\"n: {n}\")"
   ]
  },
  {
   "cell_type": "code",
   "execution_count": 15,
   "id": "4b009be0",
   "metadata": {
    "execution": {
     "iopub.execute_input": "2023-04-27T21:13:44.871360Z",
     "iopub.status.busy": "2023-04-27T21:13:44.870881Z",
     "iopub.status.idle": "2023-04-27T21:13:44.880160Z",
     "shell.execute_reply": "2023-04-27T21:13:44.878493Z"
    },
    "papermill": {
     "duration": 0.022018,
     "end_time": "2023-04-27T21:13:44.883199",
     "exception": false,
     "start_time": "2023-04-27T21:13:44.861181",
     "status": "completed"
    },
    "tags": []
   },
   "outputs": [
    {
     "name": "stdout",
     "output_type": "stream",
     "text": [
      "t: tensor([2., 2., 2., 2., 2.])\n",
      "n: [2. 2. 2. 2. 2.]\n"
     ]
    }
   ],
   "source": [
    "# in place operations\n",
    "t.add_(1)\n",
    "print(f\"t: {t}\")\n",
    "print(f\"n: {n}\")"
   ]
  },
  {
   "cell_type": "code",
   "execution_count": 16,
   "id": "2eb067fd",
   "metadata": {
    "execution": {
     "iopub.execute_input": "2023-04-27T21:13:44.900098Z",
     "iopub.status.busy": "2023-04-27T21:13:44.898888Z",
     "iopub.status.idle": "2023-04-27T21:13:44.904941Z",
     "shell.execute_reply": "2023-04-27T21:13:44.903749Z"
    },
    "papermill": {
     "duration": 0.017559,
     "end_time": "2023-04-27T21:13:44.907676",
     "exception": false,
     "start_time": "2023-04-27T21:13:44.890117",
     "status": "completed"
    },
    "tags": []
   },
   "outputs": [],
   "source": [
    "# from numpy\n",
    "n = np.ones(5)\n",
    "t = torch.from_numpy(n)"
   ]
  },
  {
   "cell_type": "code",
   "execution_count": 17,
   "id": "16524148",
   "metadata": {
    "execution": {
     "iopub.execute_input": "2023-04-27T21:13:44.923746Z",
     "iopub.status.busy": "2023-04-27T21:13:44.923246Z",
     "iopub.status.idle": "2023-04-27T21:13:44.932786Z",
     "shell.execute_reply": "2023-04-27T21:13:44.931087Z"
    },
    "papermill": {
     "duration": 0.021318,
     "end_time": "2023-04-27T21:13:44.935936",
     "exception": false,
     "start_time": "2023-04-27T21:13:44.914618",
     "status": "completed"
    },
    "tags": []
   },
   "outputs": [
    {
     "name": "stdout",
     "output_type": "stream",
     "text": [
      "t: tensor([2., 2., 2., 2., 2.], dtype=torch.float64)\n",
      "n: [2. 2. 2. 2. 2.]\n"
     ]
    }
   ],
   "source": [
    "# changes to numpy array makes changes to the tensor as well\n",
    "np.add(n, 1, out=n)\n",
    "print(f\"t: {t}\")\n",
    "print(f\"n: {n}\")"
   ]
  }
 ],
 "metadata": {
  "kernelspec": {
   "display_name": "Python 3",
   "language": "python",
   "name": "python3"
  },
  "language_info": {
   "codemirror_mode": {
    "name": "ipython",
    "version": 3
   },
   "file_extension": ".py",
   "mimetype": "text/x-python",
   "name": "python",
   "nbconvert_exporter": "python",
   "pygments_lexer": "ipython3",
   "version": "3.7.12"
  },
  "papermill": {
   "default_parameters": {},
   "duration": 17.840098,
   "end_time": "2023-04-27T21:13:46.171336",
   "environment_variables": {},
   "exception": null,
   "input_path": "__notebook__.ipynb",
   "output_path": "__notebook__.ipynb",
   "parameters": {},
   "start_time": "2023-04-27T21:13:28.331238",
   "version": "2.4.0"
  }
 },
 "nbformat": 4,
 "nbformat_minor": 5
}
