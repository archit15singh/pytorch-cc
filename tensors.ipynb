{
 "cells": [
  {
   "cell_type": "code",
   "execution_count": 1,
   "id": "393414a3",
   "metadata": {
    "_cell_guid": "b1076dfc-b9ad-4769-8c92-a6c4dae69d19",
    "_uuid": "8f2839f25d086af736a60e9eeb907d3b93b6e0e5",
    "execution": {
     "iopub.execute_input": "2023-04-27T20:59:04.342518Z",
     "iopub.status.busy": "2023-04-27T20:59:04.341947Z",
     "iopub.status.idle": "2023-04-27T20:59:04.355328Z",
     "shell.execute_reply": "2023-04-27T20:59:04.354363Z"
    },
    "papermill": {
     "duration": 0.021642,
     "end_time": "2023-04-27T20:59:04.357740",
     "exception": false,
     "start_time": "2023-04-27T20:59:04.336098",
     "status": "completed"
    },
    "tags": []
   },
   "outputs": [],
   "source": [
    "# This Python 3 environment comes with many helpful analytics libraries installed\n",
    "# It is defined by the kaggle/python Docker image: https://github.com/kaggle/docker-python\n",
    "# For example, here's several helpful packages to load\n",
    "\n",
    "import numpy as np # linear algebra\n",
    "import pandas as pd # data processing, CSV file I/O (e.g. pd.read_csv)\n",
    "\n",
    "# Input data files are available in the read-only \"../input/\" directory\n",
    "# For example, running this (by clicking run or pressing Shift+Enter) will list all files under the input directory\n",
    "\n",
    "import os\n",
    "for dirname, _, filenames in os.walk('/kaggle/input'):\n",
    "    for filename in filenames:\n",
    "        print(os.path.join(dirname, filename))\n",
    "\n",
    "# You can write up to 20GB to the current directory (/kaggle/working/) that gets preserved as output when you create a version using \"Save & Run All\" \n",
    "# You can also write temporary files to /kaggle/temp/, but they won't be saved outside of the current session"
   ]
  },
  {
   "cell_type": "markdown",
   "id": "32e258d3",
   "metadata": {
    "papermill": {
     "duration": 0.002369,
     "end_time": "2023-04-27T20:59:04.363036",
     "exception": false,
     "start_time": "2023-04-27T20:59:04.360667",
     "status": "completed"
    },
    "tags": []
   },
   "source": [
    "https://pytorch.org/tutorials/beginner/deep_learning_60min_blitz.html"
   ]
  },
  {
   "cell_type": "code",
   "execution_count": 2,
   "id": "700f908e",
   "metadata": {
    "execution": {
     "iopub.execute_input": "2023-04-27T20:59:04.369856Z",
     "iopub.status.busy": "2023-04-27T20:59:04.369517Z",
     "iopub.status.idle": "2023-04-27T20:59:06.499554Z",
     "shell.execute_reply": "2023-04-27T20:59:06.498429Z"
    },
    "papermill": {
     "duration": 2.136712,
     "end_time": "2023-04-27T20:59:06.502187",
     "exception": false,
     "start_time": "2023-04-27T20:59:04.365475",
     "status": "completed"
    },
    "tags": []
   },
   "outputs": [],
   "source": [
    "import torch\n",
    "import numpy as np"
   ]
  },
  {
   "cell_type": "markdown",
   "id": "4b58b1b4",
   "metadata": {
    "papermill": {
     "duration": 0.002575,
     "end_time": "2023-04-27T20:59:06.507759",
     "exception": false,
     "start_time": "2023-04-27T20:59:06.505184",
     "status": "completed"
    },
    "tags": []
   },
   "source": [
    "create a tensor from python native data types"
   ]
  },
  {
   "cell_type": "code",
   "execution_count": 3,
   "id": "a2a0a23c",
   "metadata": {
    "execution": {
     "iopub.execute_input": "2023-04-27T20:59:06.514999Z",
     "iopub.status.busy": "2023-04-27T20:59:06.514458Z",
     "iopub.status.idle": "2023-04-27T20:59:06.537602Z",
     "shell.execute_reply": "2023-04-27T20:59:06.536307Z"
    },
    "papermill": {
     "duration": 0.030306,
     "end_time": "2023-04-27T20:59:06.540656",
     "exception": false,
     "start_time": "2023-04-27T20:59:06.510350",
     "status": "completed"
    },
    "tags": []
   },
   "outputs": [],
   "source": [
    "data = [[1, 2], [3, 4]]\n",
    "x_data = torch.tensor(data)"
   ]
  },
  {
   "cell_type": "markdown",
   "id": "18a33777",
   "metadata": {
    "papermill": {
     "duration": 0.002492,
     "end_time": "2023-04-27T20:59:06.546093",
     "exception": false,
     "start_time": "2023-04-27T20:59:06.543601",
     "status": "completed"
    },
    "tags": []
   },
   "source": [
    "create a tensor from numpy array"
   ]
  },
  {
   "cell_type": "code",
   "execution_count": 4,
   "id": "faeab45e",
   "metadata": {
    "execution": {
     "iopub.execute_input": "2023-04-27T20:59:06.553516Z",
     "iopub.status.busy": "2023-04-27T20:59:06.553027Z",
     "iopub.status.idle": "2023-04-27T20:59:06.561632Z",
     "shell.execute_reply": "2023-04-27T20:59:06.560494Z"
    },
    "papermill": {
     "duration": 0.015227,
     "end_time": "2023-04-27T20:59:06.563961",
     "exception": false,
     "start_time": "2023-04-27T20:59:06.548734",
     "status": "completed"
    },
    "tags": []
   },
   "outputs": [],
   "source": [
    "np_array = np.array(data)\n",
    "x_np = torch.from_numpy(np_array)"
   ]
  },
  {
   "cell_type": "markdown",
   "id": "06617290",
   "metadata": {
    "papermill": {
     "duration": 0.002463,
     "end_time": "2023-04-27T20:59:06.569180",
     "exception": false,
     "start_time": "2023-04-27T20:59:06.566717",
     "status": "completed"
    },
    "tags": []
   },
   "source": [
    "override the data type of the tensor"
   ]
  },
  {
   "cell_type": "code",
   "execution_count": 5,
   "id": "8c56271c",
   "metadata": {
    "execution": {
     "iopub.execute_input": "2023-04-27T20:59:06.575992Z",
     "iopub.status.busy": "2023-04-27T20:59:06.575644Z",
     "iopub.status.idle": "2023-04-27T20:59:06.647964Z",
     "shell.execute_reply": "2023-04-27T20:59:06.646475Z"
    },
    "papermill": {
     "duration": 0.079424,
     "end_time": "2023-04-27T20:59:06.651119",
     "exception": false,
     "start_time": "2023-04-27T20:59:06.571695",
     "status": "completed"
    },
    "tags": []
   },
   "outputs": [
    {
     "name": "stdout",
     "output_type": "stream",
     "text": [
      "Ones Tensor: \n",
      " tensor([[1, 1],\n",
      "        [1, 1]]) \n",
      "\n",
      "Random Tensor: \n",
      " tensor([[0.3820, 0.0020],\n",
      "        [0.1397, 0.2332]]) \n",
      "\n"
     ]
    }
   ],
   "source": [
    "x_ones = torch.ones_like(x_data) # retains the properties of x_data\n",
    "print(f\"Ones Tensor: \\n {x_ones} \\n\")\n",
    "\n",
    "x_rand = torch.rand_like(x_data, dtype=torch.float) # overrides the datatype of x_data\n",
    "print(f\"Random Tensor: \\n {x_rand} \\n\")"
   ]
  }
 ],
 "metadata": {
  "kernelspec": {
   "display_name": "Python 3",
   "language": "python",
   "name": "python3"
  },
  "language_info": {
   "codemirror_mode": {
    "name": "ipython",
    "version": 3
   },
   "file_extension": ".py",
   "mimetype": "text/x-python",
   "name": "python",
   "nbconvert_exporter": "python",
   "pygments_lexer": "ipython3",
   "version": "3.7.12"
  },
  "papermill": {
   "default_parameters": {},
   "duration": 12.467427,
   "end_time": "2023-04-27T20:59:07.476555",
   "environment_variables": {},
   "exception": null,
   "input_path": "__notebook__.ipynb",
   "output_path": "__notebook__.ipynb",
   "parameters": {},
   "start_time": "2023-04-27T20:58:55.009128",
   "version": "2.4.0"
  }
 },
 "nbformat": 4,
 "nbformat_minor": 5
}
