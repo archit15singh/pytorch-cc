{
 "cells": [
  {
   "cell_type": "code",
   "execution_count": 1,
   "id": "7a9e90bc",
   "metadata": {
    "_cell_guid": "b1076dfc-b9ad-4769-8c92-a6c4dae69d19",
    "_uuid": "8f2839f25d086af736a60e9eeb907d3b93b6e0e5",
    "execution": {
     "iopub.execute_input": "2023-04-27T21:44:03.766699Z",
     "iopub.status.busy": "2023-04-27T21:44:03.766114Z",
     "iopub.status.idle": "2023-04-27T21:44:03.780567Z",
     "shell.execute_reply": "2023-04-27T21:44:03.779315Z"
    },
    "papermill": {
     "duration": 0.025627,
     "end_time": "2023-04-27T21:44:03.783654",
     "exception": false,
     "start_time": "2023-04-27T21:44:03.758027",
     "status": "completed"
    },
    "tags": []
   },
   "outputs": [],
   "source": [
    "# This Python 3 environment comes with many helpful analytics libraries installed\n",
    "# It is defined by the kaggle/python Docker image: https://github.com/kaggle/docker-python\n",
    "# For example, here's several helpful packages to load\n",
    "\n",
    "import numpy as np # linear algebra\n",
    "import pandas as pd # data processing, CSV file I/O (e.g. pd.read_csv)\n",
    "\n",
    "# Input data files are available in the read-only \"../input/\" directory\n",
    "# For example, running this (by clicking run or pressing Shift+Enter) will list all files under the input directory\n",
    "\n",
    "import os\n",
    "for dirname, _, filenames in os.walk('/kaggle/input'):\n",
    "    for filename in filenames:\n",
    "        print(os.path.join(dirname, filename))\n",
    "\n",
    "# You can write up to 20GB to the current directory (/kaggle/working/) that gets preserved as output when you create a version using \"Save & Run All\" \n",
    "# You can also write temporary files to /kaggle/temp/, but they won't be saved outside of the current session"
   ]
  },
  {
   "cell_type": "markdown",
   "id": "63473032",
   "metadata": {
    "papermill": {
     "duration": 0.004257,
     "end_time": "2023-04-27T21:44:03.792739",
     "exception": false,
     "start_time": "2023-04-27T21:44:03.788482",
     "status": "completed"
    },
    "tags": []
   },
   "source": [
    "Neural networks (NNs) are a collection of nested functions that are executed on some input data. These functions are defined by parameters (consisting of weights and biases), which in PyTorch are stored in tensors.\n",
    "\n",
    "Training a NN happens in two steps:\n",
    "\n",
    "Forward Propagation: In forward prop, the NN makes its best guess about the correct output. It runs the input data through each of its functions to make this guess.\n",
    "\n",
    "Backward Propagation: In backprop, the NN adjusts its parameters proportionate to the error in its guess. It does this by traversing backwards from the output, collecting the derivatives of the error with respect to the parameters of the functions (gradients), and optimizing the parameters using gradient descent"
   ]
  },
  {
   "cell_type": "markdown",
   "id": "7548ef79",
   "metadata": {
    "papermill": {
     "duration": 0.004199,
     "end_time": "2023-04-27T21:44:03.801515",
     "exception": false,
     "start_time": "2023-04-27T21:44:03.797316",
     "status": "completed"
    },
    "tags": []
   },
   "source": [
    "We create a random data tensor to represent a single image with 3 channels, and height & width of 64, and its corresponding label initialized to some random values. Label in pretrained models has shape (1,1000).\n",
    "3 channels is RGB. Labels means 1000 possible classes for the output."
   ]
  },
  {
   "cell_type": "code",
   "execution_count": 2,
   "id": "c5c54e63",
   "metadata": {
    "execution": {
     "iopub.execute_input": "2023-04-27T21:44:03.812434Z",
     "iopub.status.busy": "2023-04-27T21:44:03.811971Z",
     "iopub.status.idle": "2023-04-27T21:44:08.081814Z",
     "shell.execute_reply": "2023-04-27T21:44:08.080329Z"
    },
    "papermill": {
     "duration": 4.278768,
     "end_time": "2023-04-27T21:44:08.084791",
     "exception": false,
     "start_time": "2023-04-27T21:44:03.806023",
     "status": "completed"
    },
    "tags": []
   },
   "outputs": [
    {
     "name": "stderr",
     "output_type": "stream",
     "text": [
      "Downloading: \"https://download.pytorch.org/models/resnet18-f37072fd.pth\" to /root/.cache/torch/hub/checkpoints/resnet18-f37072fd.pth\n"
     ]
    },
    {
     "data": {
      "application/vnd.jupyter.widget-view+json": {
       "model_id": "4e9b4b832550416a92f9c2527abab4a4",
       "version_major": 2,
       "version_minor": 0
      },
      "text/plain": [
       "  0%|          | 0.00/44.7M [00:00<?, ?B/s]"
      ]
     },
     "metadata": {},
     "output_type": "display_data"
    }
   ],
   "source": [
    "import torch\n",
    "from torchvision.models import resnet18, ResNet18_Weights\n",
    "model = resnet18(weights=ResNet18_Weights.DEFAULT)\n",
    "data = torch.rand(100, 3, 64, 64)\n",
    "labels = torch.rand(100, 1000)"
   ]
  },
  {
   "cell_type": "code",
   "execution_count": 3,
   "id": "4e6efcb0",
   "metadata": {
    "execution": {
     "iopub.execute_input": "2023-04-27T21:44:08.097285Z",
     "iopub.status.busy": "2023-04-27T21:44:08.096608Z",
     "iopub.status.idle": "2023-04-27T21:44:08.105340Z",
     "shell.execute_reply": "2023-04-27T21:44:08.103876Z"
    },
    "papermill": {
     "duration": 0.017931,
     "end_time": "2023-04-27T21:44:08.108045",
     "exception": false,
     "start_time": "2023-04-27T21:44:08.090114",
     "status": "completed"
    },
    "tags": []
   },
   "outputs": [
    {
     "data": {
      "text/plain": [
       "<enum 'ResNet18_Weights'>"
      ]
     },
     "execution_count": 3,
     "metadata": {},
     "output_type": "execute_result"
    }
   ],
   "source": [
    "type(ResNet18_Weights.DEFAULT)"
   ]
  },
  {
   "cell_type": "code",
   "execution_count": 4,
   "id": "cadfb820",
   "metadata": {
    "execution": {
     "iopub.execute_input": "2023-04-27T21:44:08.121389Z",
     "iopub.status.busy": "2023-04-27T21:44:08.120080Z",
     "iopub.status.idle": "2023-04-27T21:44:08.189523Z",
     "shell.execute_reply": "2023-04-27T21:44:08.188254Z"
    },
    "papermill": {
     "duration": 0.07932,
     "end_time": "2023-04-27T21:44:08.192607",
     "exception": false,
     "start_time": "2023-04-27T21:44:08.113287",
     "status": "completed"
    },
    "tags": []
   },
   "outputs": [
    {
     "data": {
      "text/plain": [
       "tensor([[0.0654, 0.7688, 0.5981,  ..., 0.2081, 0.0020, 0.8625],\n",
       "        [0.2944, 0.9093, 0.6864,  ..., 0.1150, 0.7419, 0.1909],\n",
       "        [0.2712, 0.0591, 0.3737,  ..., 0.9167, 0.4531, 0.8166],\n",
       "        ...,\n",
       "        [0.6636, 0.7274, 0.8041,  ..., 0.4303, 0.1411, 0.6717],\n",
       "        [0.7548, 0.7448, 0.5770,  ..., 0.7100, 0.4344, 0.7886],\n",
       "        [0.5408, 0.0873, 0.0228,  ..., 0.5652, 0.8728, 0.7646]])"
      ]
     },
     "execution_count": 4,
     "metadata": {},
     "output_type": "execute_result"
    }
   ],
   "source": [
    "# this torch.rand(1, 3, 64, 64) would mean data[0][0-2][0-63][0-63] representing one image with RGB values (3 channels) of 64 x 64 matrix\n",
    "data[0][0]"
   ]
  },
  {
   "cell_type": "code",
   "execution_count": 5,
   "id": "dbfab024",
   "metadata": {
    "execution": {
     "iopub.execute_input": "2023-04-27T21:44:08.206061Z",
     "iopub.status.busy": "2023-04-27T21:44:08.204815Z",
     "iopub.status.idle": "2023-04-27T21:44:08.213502Z",
     "shell.execute_reply": "2023-04-27T21:44:08.211963Z"
    },
    "papermill": {
     "duration": 0.018294,
     "end_time": "2023-04-27T21:44:08.216328",
     "exception": false,
     "start_time": "2023-04-27T21:44:08.198034",
     "status": "completed"
    },
    "tags": []
   },
   "outputs": [
    {
     "data": {
      "text/plain": [
       "torch.Size([100, 3, 64, 64])"
      ]
     },
     "execution_count": 5,
     "metadata": {},
     "output_type": "execute_result"
    }
   ],
   "source": [
    "data.shape"
   ]
  },
  {
   "cell_type": "code",
   "execution_count": 6,
   "id": "5b35f5b7",
   "metadata": {
    "execution": {
     "iopub.execute_input": "2023-04-27T21:44:08.229649Z",
     "iopub.status.busy": "2023-04-27T21:44:08.229155Z",
     "iopub.status.idle": "2023-04-27T21:44:08.237315Z",
     "shell.execute_reply": "2023-04-27T21:44:08.236066Z"
    },
    "papermill": {
     "duration": 0.017705,
     "end_time": "2023-04-27T21:44:08.239827",
     "exception": false,
     "start_time": "2023-04-27T21:44:08.222122",
     "status": "completed"
    },
    "tags": []
   },
   "outputs": [
    {
     "data": {
      "text/plain": [
       "torch.Size([100, 1000])"
      ]
     },
     "execution_count": 6,
     "metadata": {},
     "output_type": "execute_result"
    }
   ],
   "source": [
    "labels.shape"
   ]
  },
  {
   "cell_type": "markdown",
   "id": "33d51c82",
   "metadata": {
    "papermill": {
     "duration": 0.005333,
     "end_time": "2023-04-27T21:44:08.250953",
     "exception": false,
     "start_time": "2023-04-27T21:44:08.245620",
     "status": "completed"
    },
    "tags": []
   },
   "source": [
    " we run the input data through the model through each of its layers to make a prediction. This is the forward pass."
   ]
  },
  {
   "cell_type": "code",
   "execution_count": 7,
   "id": "9f52f67e",
   "metadata": {
    "execution": {
     "iopub.execute_input": "2023-04-27T21:44:08.264349Z",
     "iopub.status.busy": "2023-04-27T21:44:08.263859Z",
     "iopub.status.idle": "2023-04-27T21:44:08.871919Z",
     "shell.execute_reply": "2023-04-27T21:44:08.870308Z"
    },
    "papermill": {
     "duration": 0.618514,
     "end_time": "2023-04-27T21:44:08.875094",
     "exception": false,
     "start_time": "2023-04-27T21:44:08.256580",
     "status": "completed"
    },
    "tags": []
   },
   "outputs": [],
   "source": [
    "prediction = model(data) # forward pass"
   ]
  },
  {
   "cell_type": "code",
   "execution_count": 8,
   "id": "24f17ddc",
   "metadata": {
    "execution": {
     "iopub.execute_input": "2023-04-27T21:44:08.889695Z",
     "iopub.status.busy": "2023-04-27T21:44:08.889276Z",
     "iopub.status.idle": "2023-04-27T21:44:08.896285Z",
     "shell.execute_reply": "2023-04-27T21:44:08.895289Z"
    },
    "papermill": {
     "duration": 0.017458,
     "end_time": "2023-04-27T21:44:08.898730",
     "exception": false,
     "start_time": "2023-04-27T21:44:08.881272",
     "status": "completed"
    },
    "tags": []
   },
   "outputs": [
    {
     "data": {
      "text/plain": [
       "torch.Size([100, 1000])"
      ]
     },
     "execution_count": 8,
     "metadata": {},
     "output_type": "execute_result"
    }
   ],
   "source": [
    "prediction.shape # how did prediction become automatically like the labels shape?"
   ]
  },
  {
   "cell_type": "markdown",
   "id": "35fed6a0",
   "metadata": {
    "papermill": {
     "duration": 0.005616,
     "end_time": "2023-04-27T21:44:08.910625",
     "exception": false,
     "start_time": "2023-04-27T21:44:08.905009",
     "status": "completed"
    },
    "tags": []
   },
   "source": [
    "answer: The ResNet18 model is trained to classify images into one of 1000 categories because it was trained on the ImageNet dataset, which consists of over 1 million images from 1000 different classes. \n",
    "\n",
    "The ImageNet dataset is a popular benchmark for image classification models, and the task of classifying images into one of 1000 categories is a challenging and complex problem. By training the ResNet18 model on this dataset, the model has learned to extract useful features from images and use them to accurately predict the correct class label for a given image.\n",
    "\n",
    "The ResNet18 architecture is a deep neural network that uses a series of convolutional layers to extract features from images, followed by several fully connected layers that perform the classification task. The final layer of the network has 1000 output nodes, each corresponding to one of the 1000 classes in the ImageNet dataset. During training, the weights of the network are adjusted using backpropagation to minimize the difference between the predicted class probabilities and the true class labels for the training data.\n",
    "\n",
    "By training on the ImageNet dataset, the ResNet18 model has become a widely used pre-trained model for image classification tasks, as the learned features can be fine-tuned for other classification tasks with smaller datasets."
   ]
  },
  {
   "cell_type": "code",
   "execution_count": 9,
   "id": "4da110ee",
   "metadata": {
    "execution": {
     "iopub.execute_input": "2023-04-27T21:44:08.926236Z",
     "iopub.status.busy": "2023-04-27T21:44:08.925505Z",
     "iopub.status.idle": "2023-04-27T21:44:08.933050Z",
     "shell.execute_reply": "2023-04-27T21:44:08.931888Z"
    },
    "papermill": {
     "duration": 0.018395,
     "end_time": "2023-04-27T21:44:08.936103",
     "exception": false,
     "start_time": "2023-04-27T21:44:08.917708",
     "status": "completed"
    },
    "tags": []
   },
   "outputs": [],
   "source": [
    "loss = (prediction - labels).sum()"
   ]
  },
  {
   "cell_type": "code",
   "execution_count": 10,
   "id": "4931c8be",
   "metadata": {
    "execution": {
     "iopub.execute_input": "2023-04-27T21:44:08.950468Z",
     "iopub.status.busy": "2023-04-27T21:44:08.949959Z",
     "iopub.status.idle": "2023-04-27T21:44:08.958525Z",
     "shell.execute_reply": "2023-04-27T21:44:08.957302Z"
    },
    "papermill": {
     "duration": 0.01911,
     "end_time": "2023-04-27T21:44:08.961278",
     "exception": false,
     "start_time": "2023-04-27T21:44:08.942168",
     "status": "completed"
    },
    "tags": []
   },
   "outputs": [
    {
     "data": {
      "text/plain": [
       "tensor(-49970., grad_fn=<SumBackward0>)"
      ]
     },
     "execution_count": 10,
     "metadata": {},
     "output_type": "execute_result"
    }
   ],
   "source": [
    "loss"
   ]
  },
  {
   "cell_type": "markdown",
   "id": "a970590b",
   "metadata": {
    "papermill": {
     "duration": 0.005938,
     "end_time": "2023-04-27T21:44:08.973447",
     "exception": false,
     "start_time": "2023-04-27T21:44:08.967509",
     "status": "completed"
    },
    "tags": []
   },
   "source": [
    "n the given line of code, loss represents the value of the loss function for a given batch of input data and labels. loss.backward() computes the gradients of the loss function with respect to the parameters of the network, which are stored in the model.parameters() object. These gradients can then be used to update the parameters of the network during the optimization step."
   ]
  },
  {
   "cell_type": "code",
   "execution_count": 11,
   "id": "194a7b27",
   "metadata": {
    "execution": {
     "iopub.execute_input": "2023-04-27T21:44:08.988525Z",
     "iopub.status.busy": "2023-04-27T21:44:08.988103Z",
     "iopub.status.idle": "2023-04-27T21:44:09.956834Z",
     "shell.execute_reply": "2023-04-27T21:44:09.955630Z"
    },
    "papermill": {
     "duration": 0.979736,
     "end_time": "2023-04-27T21:44:09.959755",
     "exception": false,
     "start_time": "2023-04-27T21:44:08.980019",
     "status": "completed"
    },
    "tags": []
   },
   "outputs": [],
   "source": [
    "loss.backward() # backward pass, this will update model.parameters()"
   ]
  },
  {
   "cell_type": "markdown",
   "id": "9fd66bd8",
   "metadata": {
    "papermill": {
     "duration": 0.006477,
     "end_time": "2023-04-27T21:44:09.972818",
     "exception": false,
     "start_time": "2023-04-27T21:44:09.966341",
     "status": "completed"
    },
    "tags": []
   },
   "source": [
    "we load an optimizer, in this case SGD with a learning rate of 0.01 and momentum of 0.9. We register all the parameters of the model in the optimizer."
   ]
  },
  {
   "cell_type": "markdown",
   "id": "60fa701c",
   "metadata": {
    "papermill": {
     "duration": 0.00579,
     "end_time": "2023-04-27T21:44:09.984963",
     "exception": false,
     "start_time": "2023-04-27T21:44:09.979173",
     "status": "completed"
    },
    "tags": []
   },
   "source": [
    "In the given line of code, torch.optim.SGD is used to create an instance of the stochastic gradient descent (SGD) optimizer, which is a popular optimization algorithm used for training neural networks. The optimizer takes as input the parameters of the model (i.e., the weights and biases of the ResNet18 architecture), and sets the learning rate (lr) to 1e-2 and the momentum to 0.9.\n",
    "\n",
    "The lr argument sets the step size at each iteration of the optimization algorithm. A larger learning rate can result in faster convergence during training, but can also cause the optimization process to overshoot and potentially fail to converge. A smaller learning rate can result in slower convergence, but can be more stable.\n",
    "\n",
    "The momentum argument sets the momentum term for the optimization algorithm. Momentum is used to accelerate the optimization process by adding a fraction of the previous update to the current update. This can help the optimizer to overcome local minima and speed up convergence.\n",
    "\n",
    "The optimizer object is then used in the training loop to update the parameters of the model based on the gradients computed during the backpropagation step. The optimizer.step() method updates the parameters based on the gradients, and the optimizer.zero_grad() method resets the gradients to zero for the next iteration. The goal of the optimization process is to minimize the loss function, which measures the difference between the predicted output of the model and the ground truth label for a given input."
   ]
  },
  {
   "cell_type": "code",
   "execution_count": 12,
   "id": "4e9f96c9",
   "metadata": {
    "execution": {
     "iopub.execute_input": "2023-04-27T21:44:09.998968Z",
     "iopub.status.busy": "2023-04-27T21:44:09.998538Z",
     "iopub.status.idle": "2023-04-27T21:44:10.006120Z",
     "shell.execute_reply": "2023-04-27T21:44:10.004367Z"
    },
    "papermill": {
     "duration": 0.018116,
     "end_time": "2023-04-27T21:44:10.009247",
     "exception": false,
     "start_time": "2023-04-27T21:44:09.991131",
     "status": "completed"
    },
    "tags": []
   },
   "outputs": [],
   "source": [
    "optim = torch.optim.SGD(model.parameters(), lr=1e-2, momentum=0.9)"
   ]
  },
  {
   "cell_type": "code",
   "execution_count": 13,
   "id": "b3f98449",
   "metadata": {
    "execution": {
     "iopub.execute_input": "2023-04-27T21:44:10.024566Z",
     "iopub.status.busy": "2023-04-27T21:44:10.024089Z",
     "iopub.status.idle": "2023-04-27T21:44:10.050391Z",
     "shell.execute_reply": "2023-04-27T21:44:10.048762Z"
    },
    "papermill": {
     "duration": 0.038121,
     "end_time": "2023-04-27T21:44:10.053694",
     "exception": false,
     "start_time": "2023-04-27T21:44:10.015573",
     "status": "completed"
    },
    "tags": []
   },
   "outputs": [],
   "source": [
    "optim.step() # gradient descent"
   ]
  },
  {
   "cell_type": "code",
   "execution_count": 14,
   "id": "58fbc385",
   "metadata": {
    "execution": {
     "iopub.execute_input": "2023-04-27T21:44:10.068458Z",
     "iopub.status.busy": "2023-04-27T21:44:10.068048Z",
     "iopub.status.idle": "2023-04-27T21:44:10.074583Z",
     "shell.execute_reply": "2023-04-27T21:44:10.073562Z"
    },
    "papermill": {
     "duration": 0.016619,
     "end_time": "2023-04-27T21:44:10.076908",
     "exception": false,
     "start_time": "2023-04-27T21:44:10.060289",
     "status": "completed"
    },
    "tags": []
   },
   "outputs": [
    {
     "data": {
      "text/plain": [
       "<generator object Module.parameters at 0x6ffcb1985550>"
      ]
     },
     "execution_count": 14,
     "metadata": {},
     "output_type": "execute_result"
    }
   ],
   "source": [
    "model.parameters()"
   ]
  }
 ],
 "metadata": {
  "kernelspec": {
   "display_name": "Python 3",
   "language": "python",
   "name": "python3"
  },
  "language_info": {
   "codemirror_mode": {
    "name": "ipython",
    "version": 3
   },
   "file_extension": ".py",
   "mimetype": "text/x-python",
   "name": "python",
   "nbconvert_exporter": "python",
   "pygments_lexer": "ipython3",
   "version": "3.7.12"
  },
  "papermill": {
   "default_parameters": {},
   "duration": 20.152201,
   "end_time": "2023-04-27T21:44:11.208895",
   "environment_variables": {},
   "exception": null,
   "input_path": "__notebook__.ipynb",
   "output_path": "__notebook__.ipynb",
   "parameters": {},
   "start_time": "2023-04-27T21:43:51.056694",
   "version": "2.4.0"
  },
  "widgets": {
   "application/vnd.jupyter.widget-state+json": {
    "state": {
     "3ccc40723fc545dd965e2658bde34607": {
      "model_module": "@jupyter-widgets/base",
      "model_module_version": "1.2.0",
      "model_name": "LayoutModel",
      "state": {
       "_model_module": "@jupyter-widgets/base",
       "_model_module_version": "1.2.0",
       "_model_name": "LayoutModel",
       "_view_count": null,
       "_view_module": "@jupyter-widgets/base",
       "_view_module_version": "1.2.0",
       "_view_name": "LayoutView",
       "align_content": null,
       "align_items": null,
       "align_self": null,
       "border": null,
       "bottom": null,
       "display": null,
       "flex": null,
       "flex_flow": null,
       "grid_area": null,
       "grid_auto_columns": null,
       "grid_auto_flow": null,
       "grid_auto_rows": null,
       "grid_column": null,
       "grid_gap": null,
       "grid_row": null,
       "grid_template_areas": null,
       "grid_template_columns": null,
       "grid_template_rows": null,
       "height": null,
       "justify_content": null,
       "justify_items": null,
       "left": null,
       "margin": null,
       "max_height": null,
       "max_width": null,
       "min_height": null,
       "min_width": null,
       "object_fit": null,
       "object_position": null,
       "order": null,
       "overflow": null,
       "overflow_x": null,
       "overflow_y": null,
       "padding": null,
       "right": null,
       "top": null,
       "visibility": null,
       "width": null
      }
     },
     "4b218b437ae44d07ad0b92fefe64a97f": {
      "model_module": "@jupyter-widgets/base",
      "model_module_version": "1.2.0",
      "model_name": "LayoutModel",
      "state": {
       "_model_module": "@jupyter-widgets/base",
       "_model_module_version": "1.2.0",
       "_model_name": "LayoutModel",
       "_view_count": null,
       "_view_module": "@jupyter-widgets/base",
       "_view_module_version": "1.2.0",
       "_view_name": "LayoutView",
       "align_content": null,
       "align_items": null,
       "align_self": null,
       "border": null,
       "bottom": null,
       "display": null,
       "flex": null,
       "flex_flow": null,
       "grid_area": null,
       "grid_auto_columns": null,
       "grid_auto_flow": null,
       "grid_auto_rows": null,
       "grid_column": null,
       "grid_gap": null,
       "grid_row": null,
       "grid_template_areas": null,
       "grid_template_columns": null,
       "grid_template_rows": null,
       "height": null,
       "justify_content": null,
       "justify_items": null,
       "left": null,
       "margin": null,
       "max_height": null,
       "max_width": null,
       "min_height": null,
       "min_width": null,
       "object_fit": null,
       "object_position": null,
       "order": null,
       "overflow": null,
       "overflow_x": null,
       "overflow_y": null,
       "padding": null,
       "right": null,
       "top": null,
       "visibility": null,
       "width": null
      }
     },
     "4e9b4b832550416a92f9c2527abab4a4": {
      "model_module": "@jupyter-widgets/controls",
      "model_module_version": "1.5.0",
      "model_name": "HBoxModel",
      "state": {
       "_dom_classes": [],
       "_model_module": "@jupyter-widgets/controls",
       "_model_module_version": "1.5.0",
       "_model_name": "HBoxModel",
       "_view_count": null,
       "_view_module": "@jupyter-widgets/controls",
       "_view_module_version": "1.5.0",
       "_view_name": "HBoxView",
       "box_style": "",
       "children": [
        "IPY_MODEL_acc63882e39d4d119ab86c05d40ae3ad",
        "IPY_MODEL_8e348c02bf6747a4982e56ce34ba83be",
        "IPY_MODEL_e70a3a0bbdfd4bcd806d0419861bbabe"
       ],
       "layout": "IPY_MODEL_965aee885fdd44e58d5bc1eac99c6a98"
      }
     },
     "5bdf0c860e4c4aaaa0de1605d0d64084": {
      "model_module": "@jupyter-widgets/base",
      "model_module_version": "1.2.0",
      "model_name": "LayoutModel",
      "state": {
       "_model_module": "@jupyter-widgets/base",
       "_model_module_version": "1.2.0",
       "_model_name": "LayoutModel",
       "_view_count": null,
       "_view_module": "@jupyter-widgets/base",
       "_view_module_version": "1.2.0",
       "_view_name": "LayoutView",
       "align_content": null,
       "align_items": null,
       "align_self": null,
       "border": null,
       "bottom": null,
       "display": null,
       "flex": null,
       "flex_flow": null,
       "grid_area": null,
       "grid_auto_columns": null,
       "grid_auto_flow": null,
       "grid_auto_rows": null,
       "grid_column": null,
       "grid_gap": null,
       "grid_row": null,
       "grid_template_areas": null,
       "grid_template_columns": null,
       "grid_template_rows": null,
       "height": null,
       "justify_content": null,
       "justify_items": null,
       "left": null,
       "margin": null,
       "max_height": null,
       "max_width": null,
       "min_height": null,
       "min_width": null,
       "object_fit": null,
       "object_position": null,
       "order": null,
       "overflow": null,
       "overflow_x": null,
       "overflow_y": null,
       "padding": null,
       "right": null,
       "top": null,
       "visibility": null,
       "width": null
      }
     },
     "6d4236f22a694bfe9379c68a87cc1964": {
      "model_module": "@jupyter-widgets/controls",
      "model_module_version": "1.5.0",
      "model_name": "DescriptionStyleModel",
      "state": {
       "_model_module": "@jupyter-widgets/controls",
       "_model_module_version": "1.5.0",
       "_model_name": "DescriptionStyleModel",
       "_view_count": null,
       "_view_module": "@jupyter-widgets/base",
       "_view_module_version": "1.2.0",
       "_view_name": "StyleView",
       "description_width": ""
      }
     },
     "8e348c02bf6747a4982e56ce34ba83be": {
      "model_module": "@jupyter-widgets/controls",
      "model_module_version": "1.5.0",
      "model_name": "FloatProgressModel",
      "state": {
       "_dom_classes": [],
       "_model_module": "@jupyter-widgets/controls",
       "_model_module_version": "1.5.0",
       "_model_name": "FloatProgressModel",
       "_view_count": null,
       "_view_module": "@jupyter-widgets/controls",
       "_view_module_version": "1.5.0",
       "_view_name": "ProgressView",
       "bar_style": "success",
       "description": "",
       "description_tooltip": null,
       "layout": "IPY_MODEL_5bdf0c860e4c4aaaa0de1605d0d64084",
       "max": 46830571.0,
       "min": 0.0,
       "orientation": "horizontal",
       "style": "IPY_MODEL_ba5b0875a6004cdfbfaf24da286e36ba",
       "value": 46830571.0
      }
     },
     "965aee885fdd44e58d5bc1eac99c6a98": {
      "model_module": "@jupyter-widgets/base",
      "model_module_version": "1.2.0",
      "model_name": "LayoutModel",
      "state": {
       "_model_module": "@jupyter-widgets/base",
       "_model_module_version": "1.2.0",
       "_model_name": "LayoutModel",
       "_view_count": null,
       "_view_module": "@jupyter-widgets/base",
       "_view_module_version": "1.2.0",
       "_view_name": "LayoutView",
       "align_content": null,
       "align_items": null,
       "align_self": null,
       "border": null,
       "bottom": null,
       "display": null,
       "flex": null,
       "flex_flow": null,
       "grid_area": null,
       "grid_auto_columns": null,
       "grid_auto_flow": null,
       "grid_auto_rows": null,
       "grid_column": null,
       "grid_gap": null,
       "grid_row": null,
       "grid_template_areas": null,
       "grid_template_columns": null,
       "grid_template_rows": null,
       "height": null,
       "justify_content": null,
       "justify_items": null,
       "left": null,
       "margin": null,
       "max_height": null,
       "max_width": null,
       "min_height": null,
       "min_width": null,
       "object_fit": null,
       "object_position": null,
       "order": null,
       "overflow": null,
       "overflow_x": null,
       "overflow_y": null,
       "padding": null,
       "right": null,
       "top": null,
       "visibility": null,
       "width": null
      }
     },
     "acc63882e39d4d119ab86c05d40ae3ad": {
      "model_module": "@jupyter-widgets/controls",
      "model_module_version": "1.5.0",
      "model_name": "HTMLModel",
      "state": {
       "_dom_classes": [],
       "_model_module": "@jupyter-widgets/controls",
       "_model_module_version": "1.5.0",
       "_model_name": "HTMLModel",
       "_view_count": null,
       "_view_module": "@jupyter-widgets/controls",
       "_view_module_version": "1.5.0",
       "_view_name": "HTMLView",
       "description": "",
       "description_tooltip": null,
       "layout": "IPY_MODEL_3ccc40723fc545dd965e2658bde34607",
       "placeholder": "​",
       "style": "IPY_MODEL_6d4236f22a694bfe9379c68a87cc1964",
       "value": "100%"
      }
     },
     "af69c86a61f24657a377a61dc8107d47": {
      "model_module": "@jupyter-widgets/controls",
      "model_module_version": "1.5.0",
      "model_name": "DescriptionStyleModel",
      "state": {
       "_model_module": "@jupyter-widgets/controls",
       "_model_module_version": "1.5.0",
       "_model_name": "DescriptionStyleModel",
       "_view_count": null,
       "_view_module": "@jupyter-widgets/base",
       "_view_module_version": "1.2.0",
       "_view_name": "StyleView",
       "description_width": ""
      }
     },
     "ba5b0875a6004cdfbfaf24da286e36ba": {
      "model_module": "@jupyter-widgets/controls",
      "model_module_version": "1.5.0",
      "model_name": "ProgressStyleModel",
      "state": {
       "_model_module": "@jupyter-widgets/controls",
       "_model_module_version": "1.5.0",
       "_model_name": "ProgressStyleModel",
       "_view_count": null,
       "_view_module": "@jupyter-widgets/base",
       "_view_module_version": "1.2.0",
       "_view_name": "StyleView",
       "bar_color": null,
       "description_width": ""
      }
     },
     "e70a3a0bbdfd4bcd806d0419861bbabe": {
      "model_module": "@jupyter-widgets/controls",
      "model_module_version": "1.5.0",
      "model_name": "HTMLModel",
      "state": {
       "_dom_classes": [],
       "_model_module": "@jupyter-widgets/controls",
       "_model_module_version": "1.5.0",
       "_model_name": "HTMLModel",
       "_view_count": null,
       "_view_module": "@jupyter-widgets/controls",
       "_view_module_version": "1.5.0",
       "_view_name": "HTMLView",
       "description": "",
       "description_tooltip": null,
       "layout": "IPY_MODEL_4b218b437ae44d07ad0b92fefe64a97f",
       "placeholder": "​",
       "style": "IPY_MODEL_af69c86a61f24657a377a61dc8107d47",
       "value": " 44.7M/44.7M [00:00&lt;00:00, 90.9MB/s]"
      }
     }
    },
    "version_major": 2,
    "version_minor": 0
   }
  }
 },
 "nbformat": 4,
 "nbformat_minor": 5
}
